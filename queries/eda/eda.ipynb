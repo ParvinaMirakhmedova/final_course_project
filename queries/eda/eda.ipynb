{
 "cells": [
  {
   "cell_type": "markdown",
   "metadata": {},
   "source": [
    "# Характеристика столбцов датасета"
   ]
  },
  {
   "cell_type": "code",
   "execution_count": 87,
   "metadata": {},
   "outputs": [],
   "source": [
    "import pandas as pd\n",
    "import scipy.stats as stat"
   ]
  },
  {
   "cell_type": "code",
   "execution_count": 88,
   "metadata": {},
   "outputs": [
    {
     "name": "stdout",
     "output_type": "stream",
     "text": [
      "dict_keys(['diabetic retinopathy', 'diseases', 'patients'])\n"
     ]
    }
   ],
   "source": [
    "df = pd.read_excel(\"C:/Users/MirahmedovaP-03/Desktop/PARVINA_COURSE_PROJECT/source/patients.xlsx\",sheet_name=None)\n",
    "print(df.keys())"
   ]
  },
  {
   "cell_type": "code",
   "execution_count": 89,
   "metadata": {},
   "outputs": [
    {
     "name": "stdout",
     "output_type": "stream",
     "text": [
      "<class 'pandas.core.frame.DataFrame'>\n",
      "RangeIndex: 376 entries, 0 to 375\n",
      "Data columns (total 7 columns):\n",
      " #   Column              Non-Null Count  Dtype \n",
      "---  ------              --------------  ----- \n",
      " 0   Patient_ID          376 non-null    int64 \n",
      " 1   Name                376 non-null    object\n",
      " 2   Sex                 376 non-null    object\n",
      " 3   Address             373 non-null    object\n",
      " 4   Level of Education  364 non-null    object\n",
      " 5   Occupation          376 non-null    object\n",
      " 6   Age in years        376 non-null    int64 \n",
      "dtypes: int64(2), object(5)\n",
      "memory usage: 20.7+ KB\n"
     ]
    }
   ],
   "source": [
    "df_sheet1 = df[\"patients\"]\n",
    "df_sheet1.info()"
   ]
  },
  {
   "cell_type": "code",
   "execution_count": 90,
   "metadata": {},
   "outputs": [
    {
     "name": "stdout",
     "output_type": "stream",
     "text": [
      "<class 'pandas.core.frame.DataFrame'>\n",
      "RangeIndex: 376 entries, 0 to 375\n",
      "Data columns (total 5 columns):\n",
      " #   Column       Non-Null Count  Dtype  \n",
      "---  ------       --------------  -----  \n",
      " 0   Patient_ID   376 non-null    int64  \n",
      " 1   Nephropathy  376 non-null    object \n",
      " 2   Neuropathy   376 non-null    object \n",
      " 3   Smoking      376 non-null    object \n",
      " 4   BMI          262 non-null    float64\n",
      "dtypes: float64(1), int64(1), object(3)\n",
      "memory usage: 14.8+ KB\n"
     ]
    }
   ],
   "source": [
    "df_sheet2 = df[\"diseases\"]\n",
    "df_sheet2.info()\n"
   ]
  },
  {
   "cell_type": "code",
   "execution_count": 91,
   "metadata": {},
   "outputs": [
    {
     "name": "stdout",
     "output_type": "stream",
     "text": [
      "<class 'pandas.core.frame.DataFrame'>\n",
      "RangeIndex: 376 entries, 0 to 375\n",
      "Data columns (total 8 columns):\n",
      " #   Column                 Non-Null Count  Dtype  \n",
      "---  ------                 --------------  -----  \n",
      " 0   Patient_ID             376 non-null    int64  \n",
      " 1   Name                   376 non-null    object \n",
      " 2   DM type                375 non-null    object \n",
      " 3   Renal function         375 non-null    object \n",
      " 4   Duration of DM         376 non-null    int64  \n",
      " 5   Diabetic retinopathy   376 non-null    object \n",
      " 6   Fasting blood glucose  374 non-null    float64\n",
      " 7   Hereditary             376 non-null    object \n",
      "dtypes: float64(1), int64(2), object(5)\n",
      "memory usage: 23.6+ KB\n"
     ]
    }
   ],
   "source": [
    "df_sheet3 = df[\"diabetic retinopathy\"]\n",
    "df_sheet3.info()"
   ]
  },
  {
   "cell_type": "code",
   "execution_count": 92,
   "metadata": {},
   "outputs": [
    {
     "name": "stdout",
     "output_type": "stream",
     "text": [
      "(np.int64(2), np.int64(81))\n"
     ]
    }
   ],
   "source": [
    "age_range = (df_sheet1[\"Age in years\"].min(), df_sheet1[\"Age in years\"].max())\n",
    "print(f\"{age_range}\")"
   ]
  },
  {
   "cell_type": "code",
   "execution_count": 93,
   "metadata": {},
   "outputs": [
    {
     "name": "stdout",
     "output_type": "stream",
     "text": [
      "Уникальные значения в 'Patient_ID':\n",
      "[  1   2   3   4   5   6   7   8   9  10  11  12  13  14  15  16  17  18\n",
      "  19  20  21  22  23  24  25  26  27  28  29  30  31  32  33  34  35  36\n",
      "  37  38  39  40  41  42  43  44  45  46  47  48  49  50  51  52  53  54\n",
      "  55  56  57  58  59  60  61  62  63  64  65  66  67  68  69  70  71  72\n",
      "  73  74  75  76  77  78  79  80  81  82  83  84  85  86  87  88  89  90\n",
      "  91  92  93  94  95  96  97  98  99 100 101 102 103 104 105 106 107 108\n",
      " 109 110 111 112 113 114 115 116 117 118 119 120 121 122 123 124 125 126\n",
      " 127 128 129 130 131 132 133 134 135 136 137 138 139 140 141 142 143 144\n",
      " 145 146 147 148 149 150 151 152 153 154 155 156 157 158 159 160 161 162\n",
      " 163 164 165 166 167 168 169 170 171 172 173 174 175 176 177 178 179 180\n",
      " 181 182 183 184 185 186 187 188 189 190 191 192 193 194 195 196 197 198\n",
      " 199 200 201 202 203 204 205 206 207 208 209 210 211 212 213 214 215 216\n",
      " 217 218 219 220 221 222 223 224 225 226 227 228 229 230 231 232 233 234\n",
      " 235 236 237 238 239 240 241 242 243 244 245 246 247 248 249 250 251 252\n",
      " 253 254 255 256 257 258 259 260 261 262 263 264 265 266 267 268 269 270\n",
      " 271 272 273 274 275 276 277 278 279 280 281 282 283 284 285 286 287 288\n",
      " 289 290 291 292 293 294 295 296 297 298 299 300 301 302 303 304 305 306\n",
      " 307 308 309 310 311 312 313 314 315 316 317 318 319 320 321 322 323 324\n",
      " 325 326 327 328 329 330 331 332 333 334 335 336 337 338 339 340 341 342\n",
      " 343 344 345 346 347 348 349 350 351 352 353 354 355 356 357 358 359 360\n",
      " 361 362 363 364 365 366 367 368 369 370 371 372 373 374 375 376]\n",
      "--------------------------------------------------\n",
      "Уникальные значения в 'Name':\n",
      "['Olimpieva Tamara' 'Saidova Ashuroy' 'Kurbоnova Khusnoro'\n",
      " 'Rashidbekova Makhtoma' 'Khafizova Muazzama' 'Kazimova Makhbuba'\n",
      " 'Rachabov Sayali' 'Negmatova Tursunoy' 'Mirzoeva Manizha'\n",
      " 'Marabekova Odinamo' 'Radzhabova Amina' 'Nematulloeva Fotima'\n",
      " 'Sanginov Ilkhom' 'Idieva Kimat' 'Rakhmonov Abdugaffor'\n",
      " 'Muskinova Sitora' 'Yunusova Shoista' 'Khafizova Sadbarg'\n",
      " 'Akhmedov Askarali' 'Makhmadaminova Gulkhonim' 'Umarov Mardon'\n",
      " 'Radzhabova Gulkharam' 'Kamarova Mavlyuda' 'Asronov Makhmadrachab'\n",
      " 'Abdulnazarova Adolat' 'Saidakhmadov Iso' 'Loikov Gafor'\n",
      " 'Davlatov Abdusalom' 'Davlatov Idris' 'Mionova Avazbibi'\n",
      " 'Giyasova Makhbuba' 'Dalimova Khamida' 'Pakhlaвонова Anzurat'\n",
      " 'Safarov Makhmadi' 'Rasulov Safarkhucha' 'Tabarova Miskol'\n",
      " 'Rakhimova Sharifa' 'Dzhuraeva Mavlyuda' 'Mirkhaidarova Manzura'\n",
      " 'Rachabov Farkhod' 'Bazarov Rakhmatullo' 'Begmatov Rachab'\n",
      " 'Sadikov Sharofiddin' 'Makhmadov Bobokhudon' 'Nachmiddinova Zulhiya'\n",
      " 'Gadoeva Asalbi' 'Sukhrob Ali' 'Kabirov Yalama' 'Karimova Khanifa'\n",
      " 'Bobodzhonova Kholbi' 'Yuldasheva Dolokhon' 'Yorova Fotima'\n",
      " 'Burova Namoyon' 'Persibeynos Nazokat' 'Sharofova O.' 'Boboeva Oisha'\n",
      " 'Shomurodova F.' 'Kholova Zulaykho' 'Rakhmatulloev Abdukhalil'\n",
      " 'Sadonov Sadriddin' 'Bilolov Nematullo' 'Matlyubova Etibor'\n",
      " 'Ubaydulloev Iso' 'Madadkhonova Kimiё' 'Khodzhaev Nabot' 'Rasulov A.'\n",
      " 'Davlatova B.' 'Saidbekov Abrukhimbek' 'Nuriddinova Ranokhon'\n",
      " 'Ismoilov Isroil' 'Abdulloyeva Nisogul' 'Dzhobirova Oisha'\n",
      " 'Saidakhmadov Saidamir' 'Sobirov Ibodullo' 'Dzhuraeva Dilbar'\n",
      " 'Yusupova Yodgora' 'Khodzhaeva Aziza' 'Rakhmatova Bakhri' 'Khasanova Sh.'\n",
      " 'Barotova Mayram' 'Valiev Akhmadchon' 'Doniyorova Kh.' 'Kholmurodov B.'\n",
      " 'Boboev Aso' 'Davlatova Sabagul' 'Mirzoeva K.' 'Sadiev Shakhob'\n",
      " 'Boymirzoeva Khurinisso' 'Burkhonov Akhmadchon' 'Boboeva Fotima'\n",
      " 'Nuriddinov Saidsho' 'Boboeva Muazzam' 'Berdiev Fayzali' 'Sharipov Kayum'\n",
      " 'Rakhmatulloev Dogi' 'Bekova Mukharram' 'Barotova Kurbogul'\n",
      " 'Nosirov Amriddin' 'Nachmiddinov Mirzo' 'Bobodzhonova Zarifa'\n",
      " 'Alikulov Tiltinboy' 'Ashurova Marziya' 'Bekhronov Rakhmatsho'\n",
      " 'Bakhriddinova Dzhumagul' 'Bobomurodova Bibigul' 'Bachabekov Kishvar'\n",
      " 'Azimova Rashida' 'Burieva Namoyon' 'Gadoev Ilkhom'\n",
      " 'Bakhtibekova Paimora' 'Abrorov Khalim' 'Boboev Safar'\n",
      " 'Abulloyeva Tochiniso' 'Akhmedova Nodira' 'Atoeva Khaticha'\n",
      " 'Akhmedzhanova Binobar' 'Abdulloyeva Muyasara' 'Abdukadirova Rustam'\n",
      " 'Abdurakhimov Zafar' 'Abdumainova Saidamo' 'Achilova Marziya'\n",
      " 'Asrorova Mokhru' 'Aburasulov Sharifchon' 'Asrorov Dilshod'\n",
      " 'Abdusattorov Abdugafor' 'Afzalov Siyovush' 'Akhmedova Munavvara'\n",
      " 'Arbobova Ulmaskhon' 'Aliyev Khochanazar' 'Ashurova Sitora'\n",
      " 'Atohodzhaeva Mukhayo' 'Bozorova Mavluda' 'Asalov Fayzali'\n",
      " 'Abdurakhmonova Khalima' 'Bakhodurova Gulchekhra' 'Bakhromova Adolat'\n",
      " 'Bobokalонова Mukaddas' 'Balaeva Rezamo' 'Boboeva Dilbar'\n",
      " 'Boboev Toshboy' 'Abdulloyeva Ziyodakhon' 'Bakhromova Gulchakhon'\n",
      " 'Barzuev Sayvali' 'Bogadyrov Komil' 'Sharipov Rakhmatullo'\n",
      " 'Saidov Sharif' 'Khasanov Safar' 'Abdullohodzhaeva Salima'\n",
      " 'Bekbudova Mashlomat' 'Begmomov Chaborali' 'Boboraimov Mukhamed'\n",
      " 'Bekova Mashshon' 'Badridinova Khomiya' 'Bebudova Gulbakhor'\n",
      " 'Boboeva Gulsara' 'Gulomova Gadobegim' 'Shamsova Galatmo'\n",
      " 'Gaforova Bibichaman' 'Valieva Muborak' 'Gaironov Khiman' 'Gafurov Iboд'\n",
      " 'Alimardonova Zumrad' 'Gulomov Makhmadsaid' 'Gulomova Idimo'\n",
      " 'Akhanhodzhieva Munavar' 'Ashuraliev Kuvvatalі' 'Ashurov Shakhobiddin'\n",
      " 'Amonov Sironkhon' 'Azimova Norgul' 'Alimova Khalima' 'Achilova Fotima'\n",
      " 'Anvarov Khaydar' 'Asadov Dodobek' 'Akbaraliev Akbarchon'\n",
      " 'Boev Dzhonmakhmad' 'Ayubova Adolat' 'Abdunazarova Fotima'\n",
      " 'Ashurova Bargigul' 'Bozorov Chalol' 'Bozorov Rakhmatullo'\n",
      " 'Boeva Zebokhon' 'Azizov Abdurakhim' 'Boboeva Latifa' 'Boboev Rakhim'\n",
      " 'Bobokhonova Umeda' 'Akhmedova Rokhoбар' 'Abdunazarova Adolat'\n",
      " 'Abdulloyeva N.' 'Azamov Murodchon' 'Abulabos Siddik'\n",
      " 'Abdurakhmonova Bibirachab' 'Abdunazarova Alfinur' 'Aliyeva Mukhabat'\n",
      " 'Abdukarimova Mukhabat' 'Abduvakhobova Makhbuba' 'Astanov Toshtemur'\n",
      " 'Azizova Khimchanda' 'Kodirov Rodshob' 'Akhmedova Khabaroy'\n",
      " 'Asoeva Shakhzoda' 'Akhmetov Amrullo' 'Abdurasulov Sharifchon'\n",
      " 'Karimova Fayzigul' 'Karimova Gulbozor' 'Karimov Khairiddin'\n",
      " 'Avgonova Gulsara' 'Alya Sayrullo' 'Mamадhoitova Kimiё'\n",
      " 'Makhmadiev Saidmurod' 'Karaev Yunus' 'Mashlubova Etibor'\n",
      " 'Mansurova Matlyuba' 'Musoev Kholbobo' 'Kurbоnova Bozorgul'\n",
      " 'Madatova Kanoaт' 'Davlatova Zulfiya' 'Kuziyeva Ziyoratkhon'\n",
      " 'Kuvvatova Mavlyuda' 'Kosimova Khirobon' 'Kosimov Saidkhucha'\n",
      " 'Kosimova Odinabi' 'Davlatova Idigul' 'Kakhkhorov Bakhrullo'\n",
      " 'Kassirova Zarifmo' 'Karimova Chumagul' 'Davlatova Sa’bagul'\n",
      " 'Karimova Safargul' 'Suyunova Tochioy' 'Kodirov Tochiniso'\n",
      " 'Rustamov Chuma' 'Rakhimova Savrimo' 'Karaev Makhmadnazar'\n",
      " 'Rasulova Khavasmo' 'Nurova Sharifa' 'Nurova Begim' 'Nurov Makhkamboй'\n",
      " 'Normatova Munavara' 'Narzиеva Chamila' 'Nazarova Noziya'\n",
      " 'Nazhmutdinova Gulishor' 'Musodikov Shodmon' 'Mirzoeva Makhnоza'\n",
      " 'Mirzoev Khokim' 'Machidova Tagoygul' 'Makhmudova Sharifamo'\n",
      " 'Olimov Sodik' 'Gulyamova Gadobegim' 'Radzhabova Khоsiyat'\n",
      " 'Ismoilova Mukarama' 'Zokhirova Gulchamila' 'Davlatova Momogul'\n",
      " 'Kurbоnov Makhmanabi' 'Davlatova Maysara' 'Sodikov Mukhamadchon'\n",
      " 'Sattorov Iboдullo' 'Rakhmonov Narzullo' 'Dzhobirov Sher'\n",
      " 'Rakhimova Mayram' 'Bidezishvili Ilisha' 'Rasulova Mukarram'\n",
      " 'Zainiddinova Saida' 'Rasulov Salmanmurod' 'Rasulov Davlatmurod'\n",
      " 'Zabirova Nурkhotun' 'Radzhabova Gulхарam' 'Pirova Khangoma'\n",
      " 'Pirmatova Sharofat' 'Kosimova Nurbibi' 'Kaladarova Mayram'\n",
      " 'Kaladarova Zukhro' 'Kabirova Mavchigul' 'Kabirov Yormakhmad'\n",
      " 'Kobilova Khaticha' 'Isakova Makhsuda' 'Rasulova Saodat'\n",
      " 'Ismoilov Rakhim' 'Ismoilova Savlatmo' 'Ibragimov Davlat'\n",
      " 'Zubaidova Gulchakhon' 'Abdulloev Nekruz' 'Azizova Asima'\n",
      " 'Rioeva Mokhiston' 'Boboev Davron' 'Anisai Maksad' 'Bobodzhanova Salomat'\n",
      " 'Vatanova Madina' 'Divlokhov Saidakram' 'Yorzoda Gulnozai Sharif'\n",
      " 'Ibragimov Dzakhongir' 'Ismoilov Dovud' 'Kandilov Bashariddin'\n",
      " 'Kodirov Izzatullo' 'Kodirova Ansu' 'Malokhati Mirzoshаrif'\n",
      " 'Mardonov Abdujalil' 'Mardonov Mekhrubon' 'Madzhidov Azimdzon'\n",
      " 'Makhmudova Azamatkhon' 'Makhmudova Marjona' 'Mekhrobi Bakhodur'\n",
      " 'Mirzoeva Parvona' 'Muminova Arofathon' 'Nazarov Olimdzon'\n",
      " 'Nazriev Bakhodur' 'Narziev Farrukh' 'Sultonov Yokubdzon'\n",
      " 'Saidov Sharifdzon' 'Kholbоboev Parviz' 'Saraev Abduloboy'\n",
      " 'Sattorzoda Mekhriniso' 'Safarova Shirinmokh' 'Dzhabborov Mekhron'\n",
      " 'Temirova Bunafsha' 'Teshaboeva Mekhrona' 'Bobobekov Dzakhonbek'\n",
      " 'Urazmatova Nilufar' 'Usmonalii Abdukha?im' 'Utamurodov Emоmali'\n",
      " 'Nargisi Akram' 'Nurmatova Mavzuna' 'Kholboeva Lola' 'Kholov Daler'\n",
      " 'Khudoyorov Nekruz' 'Khudoйberdieva Umeda' 'Sangova Dilafruz'\n",
      " 'Toshmurodova Dilоrom' 'Khasanova Risolat' 'Kaisova Gulchekhra'\n",
      " 'Kamolova Dilorom' 'Dzhuraeva Gulnoza' 'Karimova Tadjigul'\n",
      " 'Kobilova Matlyuba' 'Kodirov Khairiddin' 'Kodirova Gulsara'\n",
      " 'Shekhova Sabrina' 'Kurbоnbekov Azam' 'Zulaykhoi Khasan'\n",
      " 'Kurbоnov Kholmurod' 'Rabieva Gilon' 'Radzhabova Zulaykho'\n",
      " 'Radzhabova Fayzigul' 'Rasulov Dzhumakhon' 'Khaimova Muborak'\n",
      " 'Rakhimova Mamlakat' 'Bobodzhonov Makhmud' 'Rakhmanov Abdugaфор'\n",
      " 'Gulova Fayzimo' 'Zamonshoev Mastibek' 'Zamonov Khikmatullo'\n",
      " 'Amonov Bobonazar' 'Dadoboev Chumanazar' 'Yorova Niso'\n",
      " 'Dzhurakulova Saidmokh' 'Dustova Markhabo' 'Yorov Emomidдин'\n",
      " 'Nuraliyeva Nikhol' 'Zokhirova Khalima' 'Zioeva Zebo' 'Zaripova Rukiya'\n",
      " 'Zaripova Mokhiston' 'Dolimova Khomida' 'Abdulloyeva Malika'\n",
      " 'Davlatova Khayri' 'Davlatova Shamigul' 'Davlatkhozhaev Saidakhtam'\n",
      " 'Makhmadrasulova Khabiba' 'Dzhuraev Todzhiddin' 'Karimova Mayram']\n",
      "--------------------------------------------------\n",
      "Уникальные значения в 'Sex':\n",
      "['f' 'm']\n",
      "--------------------------------------------------\n",
      "Уникальные значения в 'Address':\n",
      "['g. Dushanbe, ul. Attor' 'RAShtskiy r-on' 'Varzobskiy r-on'\n",
      " 'g. Dushanbe, Lomonosova 2, d7' 'Rudakinskiy r-on'\n",
      " 'g. Dushanbe, ul. Kuybysheva d 3-9' 'Farkhorskij r-on' 'Rudakijskij r-on'\n",
      " 'g. Dushanbe, ul. Sino 130/4-69' 'g.Dushanbe, A. Navoi 11/2-29'\n",
      " 'g. Nurek, ul. Dakhani 1' 'Pyandzhskij r-on'\n",
      " 'g. Dushanbe, ul. N. Karabaeva 84/1 - 47'\n",
      " 'g. Dushanbe, Yakka-chinar 148/1-3'\n",
      " 'g. Dushanbe, ul. Nazarshoeva 3 pr.-38' 'Rudakiyskiy r-on'\n",
      " 'g. Dushanbe, ul. Gastella-8' 'Kabodiyanskiy r-on'\n",
      " 'g. Dushanbe, ul Vose-118' 'g. Rogun'\n",
      " 'g. Dushanbe, ul. Shurakskoiy 30/1-2' 'g. Dushanbe, Ayni 72/3-27'\n",
      " 'g. Dushanbe, Ayni 52' 'Shakhrituziyskiy r-on'\n",
      " 'g. Dushanbe, Zarafshon m-6, D-5-5' 'g. Dushanbe, ul. I. Somoni'\n",
      " 'Rudakiyskiyskiy r-on' 'g. Tursun-zade' 'Dzhomiyiskiy r-on'\n",
      " 'g. Dushanbe, ul. Pushkina 4- 26'\n",
      " 'g. Dushanbe, ul. N. Karabaeva 1pr. D7-20' 'Khurasonskij r-on'\n",
      " 'g. Dushanbe, ul. Ostrovskoho 49' 'Voseyskiy r-on' 'Nurabadskyi r-on'\n",
      " 'g. Dushanbe, ul. Polurskaya' 'Vahdatskiy r-on' 'Fayzabadskiy r-on'\n",
      " 'Gissarskiy r-on' 'g. Dushanbe, Gulbutta 112'\n",
      " 'g. Dushanbe, ul. Titova 20pr. D-20' 'g. Dushanbe, ul. Tunis d-1/3-6'\n",
      " 'g. Dushanbe. Ul. Tursunzade 93' 'g. Dushanbe. Ul. Ispechak-6 -1-14'\n",
      " 'g. Dushanbe, ul. Nekrasov d-1 kv.29' 'Darvazskiy r-on'\n",
      " 'g. Dushanbe, ul. Lomonosova' 'g. Dushanbe, ul. Ispechak 2 m 26'\n",
      " 'Rashtskiy r-on' 'g. Dushanbe, Khudzhambiyo'\n",
      " 'g. Dushanbe. Ul. I. Somoni-89/3' 'g. Dushanbe' 'g. Dushanbe, ul. Shark'\n",
      " 'g. Dushanbe, ul. Gafurova 30/2 -1' 'g. Dushanbe, ul. Titova 21'\n",
      " 'g. Dushanbe, ul. Gafurova 40/3-14' 'Ayniyskiy r-on'\n",
      " 'g. Dushanbe, ul. Tursunzade' 'g. Dushanbe, Yesenina 7pr. 10'\n",
      " 'g. Dushanbe, U. Zokoni 2 pr. d-16' 'g. Dushanbe, Ispechak m 20, d-3-14'\n",
      " 'g. Dushanbe, ul. Mushfiki 102' 'g. Dushanbe, ul. Dj. Rasulova 67/3-14'\n",
      " 'g. Dushanbe, ul. Mayakovskogo 135 kv.5'\n",
      " 'g. Dushanbe, ul. Pushkina 4- 49' 'g. Dushanbe, Parvin 46-18'\n",
      " 'g. Dushanbe, ul. Shodi -14' 'g. Dushanbe, Dj. Rasulov 55/4-45'\n",
      " \"Djirgatal'skiy r-on\" 'g. Dushanbe, ul. Shimoli-4'\n",
      " 'g. Dushanbe, Borbad 83-19' 'g. Dushanbe, Sakhbo -703'\n",
      " 'g. Dushanbe, Umed - 104' 'g. Dushanbe, ul. Mayakovskogo 23-18'\n",
      " 'g. Dushanbe, Yakka-chinar 142/3-16'\n",
      " 'g. Dushanbe, ul Titova 20 pr. d- 20' 'g, Dushanbe, Tursun-zade 176'\n",
      " 'g. Dushanbe, ul. Putoskogo 111/3-12' 'g. Dushanbe. Chekhova 18-21'\n",
      " 'g. Dushanbe, ul Vakhsh d11' 'g. Dushanbe, Ispechak 1, m 4 d-1-3'\n",
      " 'g. Dushanbe, Zakhmatabadskiya 515' 'g. Dushanbe, Kazokon 2 -82'\n",
      " 'g. Dushanbe, Khusnobod 49' 'g. Dushanbe, Firdavsi 52-44'\n",
      " 'g. Dushanbe, ul. Tolstogo 66' 'g. Dushanbe, Vostochnaya kholma 12'\n",
      " 'g. Dushanbe, ul. Nazarshoeva 19' 'g. Dushanbe, Gafurova 7-36'\n",
      " 'g. Dushanbe, ul. M. tursunzade 1' 'g. Dushanbe, st. Yuzhny 26-5'\n",
      " 'g. Dushanbe, Borbad 105/1-9' 'g. Dushanbe, ul L. Sherali 12-25'\n",
      " 'g. Dushanbe, ul. Sherozi 20/2-27' 'g. Dushanbe, ul. Shamsi 8-17'\n",
      " 'g. Dushanbe, ul. A. Makhsum 103/2-26' 'g. Dushanbe, Chekhova 2 pr 22/66'\n",
      " \"g. Dushanbe, ul. Komsomol'skaya 27/1\" 'g. Dushanbe, ul. Titova 182'\n",
      " 'g. Dushanbe, k. Rossiya uch. 1 may' 'g. Dushanbe, ul. Zarafshon 8-56'\n",
      " 'g. Dushanbe, ul. Proletarskaya 134' 'Rogunskiy r-on'\n",
      " 'g. Dushanbe, S. Sherozi - 16' 'g. Dushanbe, A Donish 17'\n",
      " 'g. Dushanbe, ul. Ayni 72/1-9' 'g. Dushanbe, ul Ispechak 2 m 9 d6-10'\n",
      " 'g. Dushanbe, ul. Firdavsi 13/1-12' 'g. Dushanbe, ul. Delovskaya 47'\n",
      " 'g. Dushanbe, ul. S. Sherozi 23' 'g. Dushanbe, ul. Nazarshoeva 52'\n",
      " 'g. Dushanbe, ul. Ozod-12' 'g. Dushanbe, ul. Dekhoti 21/5'\n",
      " 'g. Dushanbe, Dobromobova 16' 'g. Dushanbe, ul. Telyan 1 pr.-3 a'\n",
      " 'g. Dushanbe, ul. A. Donish 11/1-24' 'r. Rudaki, ul. Gulbutta 112' nan\n",
      " 'Rudakiyskiy r-on, k. Rokhati' 'Rudakiyskiy r-on, d. Guliston'\n",
      " 'Rudaki, ul. Sangtuda' 'g. Dusti, Khusnobod-29' 'Rudaki Chormss'\n",
      " 'Rudaki, p. Ros' 'g. Dushanbe, ul. Titol, d-26' 'Rudaki, k/z Lenina'\n",
      " 'Rudaki, ul. Os' 'g. Dushanbe, ul. Akademicheskaya 15-21'\n",
      " 'Rudaki, dj. Zaynobod' 'Rudakiyskiy r-on, k/z Rossiya'\n",
      " 'Lenskiy r-on, k/z Pulatova' 'Rudaki, dj. Koshtappa'\n",
      " 'Rudakiyskiy r-on m. I' 'Rudakiyskiy r-on, ul. Guliston'\n",
      " 'g. Dushanbe, ul. Mir-48' 'Rudakiyskiy r-on, ul. Rokhati'\n",
      " 'g. Dushanbe, Firdavsi-93-35' 'g. Dushanbe, ul. Vose 118'\n",
      " 'Rudakiyskiy r-on, ul. Chuybodom' 'Rudaki, Kushtappa'\n",
      " 'g. Dushanbe, ul. Ayni 34/4-41' 'Rudaki, dj. Rakhimi'\n",
      " 'g. Dushanbe, ul. Zarafshon-13' 'Rudakiyskiy r-on, Chimteppa'\n",
      " 'Rudaki, Tozgari poyon' 'Lenskiy r-on, k/z Rossiya'\n",
      " 'g. Dushanbe, ul. Ayni-35' 'Rudakiyskiy r-on, ul. Leningrad'\n",
      " 'Rudakiyskiy r-on, ul. Karotog' 'Rudakiyskiy r-on, tezgari bolo'\n",
      " 'Yavanskiy r-on, ul. Djomi-97' 'Rudakiyskiy r-on, Kitlom'\n",
      " 'Rudakiyskiy r-on, ul. S. Pulodov' 'Rudakiyskiy r-on, ul. Komunizm'\n",
      " 'g. Dushanbe, ul. Chkalovsk 5' 'Rudakiyskiy r-on, Sultonobod'\n",
      " 'Rudakiyskiy r-on, ul. Zafar' 'g. Dushanbe, ul. Vose 58'\n",
      " 'Rudakiyskiy r-on, Chorteppa' 'Rudakiyskiy r-on, dj. Sabzikor'\n",
      " 'Nurabadskyi r-on, ul. Poyeron' 'g. Vakhdat, dsh. Chuyangaron'\n",
      " 'Rudakiyskiy r-on, ul. Mirzochul' 'g. Dushanbe, ul. A. Donish 32/6-13'\n",
      " 'Rudakiyskiy r-on, s. Dusti' 'Rudakiyskiy r-on, dsh. Rokhati'\n",
      " 'Rudakiyskiy r-on, Kushtappa' 'Rudakiyskiy r-on, uch. Yangi Kurgon'\n",
      " 'g. Dushanbe, Ipechak' 'Rudakiyskiy r-on, ul. Nilkon'\n",
      " 'Tavildariyskiy r-on, dj. Childara' 'Varzobskiy r-on, Kharangon'\n",
      " 'g. Dushanbe, Yakkachinor 144/4' 'Rudakiyskiy r-on, dsh. Loyob'\n",
      " 'gorod Dushanbe, ul. Titova - 172' 'Rudakiyskiy r-on, uch. Sangtuda'\n",
      " 'gorod Dushanbe ul. A. Navoi 17/2 kv. 54'\n",
      " 'g. Dushanbe, ul. Dehoti 23/18-28'\n",
      " 'gorod Dushanbe ul. Nekrasova d. 1 kv. 25'\n",
      " 'Fayzabadskyi r-on, dsh. Chilchashma' 'Rudakiyskiy r-on, dsh. Sangtuda'\n",
      " 'Rudakiyiskiy r-on, uch. Sangtuda' 'g. Vakhdat, dsh. Guliston'\n",
      " 'gorod Dushanbe, ul. Gafurova 8 -kv. 18' 'g.Dushanbe. Pr. Pravda d-74-27'\n",
      " 'Rudakiyskiy r-on, dsh. Chuybodom'\n",
      " 'gorod Dushanbe, ul. Ipechak -2, m-10-1 kv. 4'\n",
      " 'Rudakiyskiy r-on, p. Navobod' 'Rudakiyskiy r-on, dj. Varzob'\n",
      " 'Rudakiyiskiy r-on, dj. Gulishton' 'Rudakiyskiy r-on, ul. R. Balkhi 19'\n",
      " 'Rudakiyskiy r-on, ul. Rossiya' 'g. Dushanbe, ul. A. Donish 23'\n",
      " 'gorod Dushanbe ul. Gissarskiy 39 kv. 15' 'g. Dushanbe, pr. Pravda-2015'\n",
      " 'g. Dushanbe, ul. Dehoti' 'Rudakiyskiy r-on, k. Rossiya'\n",
      " 'Rudakiyskiy r-on, uch. Pravda' 'gorod Dushanbe ul. Dilshodi Barno 13'\n",
      " 'g. Dushanbe, Mayakovskaya 85-23' 'Fayzabadskyi r-on, p. Djonvarsos'\n",
      " 'Kumsangirskyi r-on' \"Rudakiyskiy r-on, ul. Ma'rifat d. 41 kv. 30\"\n",
      " 'gorod Dushanbe ul. Gissarskaya 29/2 kv. 1'\n",
      " 'Yavanskiy r-on, ul. Djomi-69' 'Bokhtarsky r-on, dj. Istiklol'\n",
      " 'Gissarsky r-on' 'Pyandzhsky r-on' 'Fayzabadskyi r-on'\n",
      " 'gorod Nurek ul. Rudaki 21-44' 'Kabodianskiy r-on' 'Khorosonskiy r-on'\n",
      " 'Yavanskiy r-on' 'r-on N. Khusrav' 'Shahrinavskiy r-on'\n",
      " 'Rudakiyiskiy r-on' 'Tadzhikabadskiy r-on' 'gorod Vakhdat kolkhoz Lenin'\n",
      " 'gorod Nurek ul. Karimzoda 28-5' 'gorod Dushanbe ul. Borbad 102-20'\n",
      " 'gorod Kulyab 13 mkr 1/17-17' 'r-on A. Djomi ul. Somoniyon'\n",
      " 'gorod Panjakent pos. Navobod' 'Yavanskiy r-on, ul. A. Djomi 93/55'\n",
      " 'gorod Dushanbe ul. M. Osimi 45' 'gorod Vakhdat ul. Vatan 10'\n",
      " 'Vakhdatskiy r-on' 'Kumsangirskiy r-on' 'Vakhdatsky r-on'\n",
      " 'gorod Sarband, ul. Zeboniso kv 35' 'gorod Dushanbe ul. Dakiqi 4'\n",
      " 'gorod Dushanbe ul. R. Nabiev 22-33'\n",
      " 'gorod Nurek ul. R. Shodi dom 113 kv 24'\n",
      " 'gorod Dushanbe ul. Shaumiyan 27' 'gorod Dushanbe 2 pr. Ulugbek d.4'\n",
      " 'Kanibadamskiy r-on, ul. Lenina kv. 112'\n",
      " 'gorod Dushanbe ul. Ayni 275 kv. 4'\n",
      " 'gorod Dushanbe ul. M. Sobirova kv. 3'\n",
      " 'gorod Dushanbe ul. Shamsi 18 kv. 14'\n",
      " 'gorod Dushanbe ul. S. Sherozi 19 kv. 34' 'Darvotskiy r-on'\n",
      " 'gorod Dushanbe ul. Sevastopol' 'Penzhikentskiy r-on'\n",
      " 'gorod Dushanbe ul. Khosilot 80'\n",
      " 'gorod Dushanbe ul. 3 pr. Nazarshoyeva d. 49'\n",
      " 'gorod Dushanbe ul. Shukukhi kv. 24' 'gorod Dushanbe ul. R. Jalil d. 57'\n",
      " 'gorod Dushanbe' 'g. Dushanbe, ul. Mayakovskogo d 9/4 kv.1'\n",
      " 'gorod Dushanbe ul. Druzhby Narodov 19 kv. 8'\n",
      " 'gorod Dushanbe ul. Firdavsi 87 kv. 1'\n",
      " 'gorod Dushanbe ul. Proletarskaya 28 kv. 3'\n",
      " 'Rudakiyiskiy r-on, dj. Bakhorizon' 'Rudaki, kol. Rakhimi'\n",
      " 'Varzobskiy r-on, Shaftimichgon' 'gorod Dushanbe, ul. Ayni 259/3 kv. 26'\n",
      " 'Rudakiyiskiy r-on, dj. Somon' 'gorod Nurek, pos. Bratskiy-3. kv. 6'\n",
      " 'gorod Dushanbe, ul. Karoteginskaya 87'\n",
      " 'gorod Dushanbe, ul. Vostochnaya Kholma -19'\n",
      " 'gorod Dushanbe, ul. I. Somoni 62' 'g. Dushanbe, ul. Ayni 7/3'\n",
      " 'Shakrituzskiy r-on' 'gorod Dushanbe, ul. Ayni 35/1 kv. 7'\n",
      " 'gorod Dushanbe, ul. Vanchi-20' 'rudakiyiskiy r-on, uch. T. Samarkandi'\n",
      " 'gorod Dushanbe ul. A. Donish 32/1 kv 39']\n",
      "--------------------------------------------------\n",
      "Уникальные значения в 'Level of Education':\n",
      "['high' 'undergraduate' nan]\n",
      "--------------------------------------------------\n",
      "Уникальные значения в 'Occupation':\n",
      "['musician' 'unemployed' 'housewife' 'teacher' 'orderly' 'economist'\n",
      " 'entrepreneur' 'collective farm worker' 'guard' 'customs officer'\n",
      " 'police officer' 'journalist' 'tractor driver' 'laundry worker'\n",
      " 'accountant' 'retiree' 'nurse' 'lawyer' 'engineer' 'cleaner' 'worker'\n",
      " 'agronomist' 'plumber' 'pharmacist' 'instructor' 'disabled'\n",
      " 'technologist' 'doctor' 'cook' 'professor' 'schoolchild' 'ballerina'\n",
      " 'driver' 'military' 'seamstress' 'gas station attendant' 'policeman'\n",
      " 'student' 'salesperson' 'deputy director of Barqi Tojik' 'builder'\n",
      " 'AOOT \"Monolitstroy\"' 'director' 'non-specified']\n",
      "--------------------------------------------------\n",
      "Уникальные значения в 'Age in years':\n",
      "[69 62 70 55 64 53 49 19 54 39 65 42 48 47 58 72 56 66 61 67 52 74 57 63\n",
      " 59 30 46 60 75 43 68 44 51 76 73 31 38 35 22 37 32 27 71 50 36 16 45 79\n",
      " 81 77 33 28 40 80 20 41 34 12 15  2 18  5 14  6 17 23 11 21]\n",
      "--------------------------------------------------\n"
     ]
    }
   ],
   "source": [
    "for col in df_sheet1.columns:\n",
    "    unique_values = df_sheet1[col].unique()\n",
    "    print(f\"Уникальные значения в '{col}':\")\n",
    "    print(unique_values)\n",
    "    print(\"-\" * 50)\n"
   ]
  },
  {
   "cell_type": "code",
   "execution_count": 94,
   "metadata": {},
   "outputs": [
    {
     "name": "stdout",
     "output_type": "stream",
     "text": [
      "Уникальные значения в 'Patient_ID':\n",
      "[  1   2   3   4   5   6   7   8   9  10  11  12  13  14  15  16  17  18\n",
      "  19  20  21  22  23  24  25  26  27  28  29  30  31  32  33  34  35  36\n",
      "  37  38  39  40  41  42  43  44  45  46  47  48  49  50  51  52  53  54\n",
      "  55  56  57  58  59  60  61  62  63  64  65  66  67  68  69  70  71  72\n",
      "  73  74  75  76  77  78  79  80  81  82  83  84  85  86  87  88  89  90\n",
      "  91  92  93  94  95  96  97  98  99 100 101 102 103 104 105 106 107 108\n",
      " 109 110 111 112 113 114 115 116 117 118 119 120 121 122 123 124 125 126\n",
      " 127 128 129 130 131 132 133 134 135 136 137 138 139 140 141 142 143 144\n",
      " 145 146 147 148 149 150 151 152 153 154 155 156 157 158 159 160 161 162\n",
      " 163 164 165 166 167 168 169 170 171 172 173 174 175 176 177 178 179 180\n",
      " 181 182 183 184 185 186 187 188 189 190 191 192 193 194 195 196 197 198\n",
      " 199 200 201 202 203 204 205 206 207 208 209 210 211 212 213 214 215 216\n",
      " 217 218 219 220 221 222 223 224 225 226 227 228 229 230 231 232 233 234\n",
      " 235 236 237 238 239 240 241 242 243 244 245 246 247 248 249 250 251 252\n",
      " 253 254 255 256 257 258 259 260 261 262 263 264 265 266 267 268 269 270\n",
      " 271 272 273 274 275 276 277 278 279 280 281 282 283 284 285 286 287 288\n",
      " 289 290 291 292 293 294 295 296 297 298 299 300 301 302 303 304 305 306\n",
      " 307 308 309 310 311 312 313 314 315 316 317 318 319 320 321 322 323 324\n",
      " 325 326 327 328 329 330 331 332 333 334 335 336 337 338 339 340 341 342\n",
      " 343 344 345 346 347 348 349 350 351 352 353 354 355 356 357 358 359 360\n",
      " 361 362 363 364 365 366 367 368 369 370 371 372 373 374 375 376]\n",
      "--------------------------------------------------\n",
      "Уникальные значения в 'Nephropathy':\n",
      "['yes' 'no']\n",
      "--------------------------------------------------\n",
      "Уникальные значения в 'Neuropathy':\n",
      "['yes' 'no']\n",
      "--------------------------------------------------\n",
      "Уникальные значения в 'Smoking':\n",
      "['no' 'yes']\n",
      "--------------------------------------------------\n",
      "Уникальные значения в 'BMI':\n",
      "[25.5  30.1  24.6  18.3  32.   21.2  24.2  16.1  20.5  32.5  27.5  29.4\n",
      " 27.9  20.7  22.3  37.6  38.3  19.1  23.6  41.5  21.9  22.9  31.2  38.2\n",
      " 28.9  25.9  37.9  29.5  31.4  18.   26.1  31.6  23.3  26.7  18.2  22.4\n",
      " 29.7  20.8  39.3  26.3  27.6  28.3  39.5  35.   30.5  26.5  22.   27.3\n",
      " 21.6  28.7  26.2  30.4  15.6  32.9  26.6  27.7  25.8  27.1  39.   36.\n",
      " 25.2  42.4  21.4  16.2  34.2  17.6  19.8  34.8  25.4  32.4  22.5  24.5\n",
      " 26.4  24.3  35.3  30.3  23.1  33.3  43.6  37.2  30.6  33.8  34.4  34.5\n",
      " 28.1  16.7  38.9  15.4  24.8  21.8  39.4  16.5  35.1  34.6    nan 34.04\n",
      " 30.69 23.4  32.6  36.6  29.1  28.4  35.8  46.4  30.2  24.   30.9  37.3\n",
      " 25.6  33.   33.7  24.9  36.2  37.8  35.4  30.   34.1  13.6  34.9  27.8\n",
      " 39.6  33.5  27.4  28.   23.   37.4  29.8  19.5  29.04 31.1  27.26 29.3\n",
      " 19.26 30.8  20.24 28.5  29.   23.8  20.1  31.5  21.51 40.7  32.8  25.1\n",
      " 33.4  31.   15.9  28.6  28.2  31.9  23.7  21.7  23.2 ]\n",
      "--------------------------------------------------\n"
     ]
    }
   ],
   "source": [
    "for col in df_sheet2.columns:\n",
    "    unique_values = df_sheet2[col].unique()\n",
    "    print(f\"Уникальные значения в '{col}':\")\n",
    "    print(unique_values)\n",
    "    print(\"-\" * 50)"
   ]
  },
  {
   "cell_type": "code",
   "execution_count": 95,
   "metadata": {},
   "outputs": [
    {
     "name": "stdout",
     "output_type": "stream",
     "text": [
      "(np.float64(13.6), np.float64(46.4))\n"
     ]
    }
   ],
   "source": [
    "bmi_range = (df_sheet2[\"BMI\"].min(), df_sheet2[\"BMI\"].max())\n",
    "print(f\"{bmi_range}\")"
   ]
  },
  {
   "cell_type": "code",
   "execution_count": 96,
   "metadata": {},
   "outputs": [
    {
     "name": "stdout",
     "output_type": "stream",
     "text": [
      "Уникальные значения в 'Patient_ID':\n",
      "[  1   2   3   4   5   6   7   8   9  10  11  12  13  14  15  16  17  18\n",
      "  19  20  21  22  23  24  25  26  27  28  29  30  31  32  33  34  35  36\n",
      "  37  38  39  40  41  42  43  44  45  46  47  48  49  50  51  52  53  54\n",
      "  55  56  57  58  59  60  61  62  63  64  65  66  67  68  69  70  71  72\n",
      "  73  74  75  76  77  78  79  80  81  82  83  84  85  86  87  88  89  90\n",
      "  91  92  93  94  95  96  97  98  99 100 101 102 103 104 105 106 107 108\n",
      " 109 110 111 112 113 114 115 116 117 118 119 120 121 122 123 124 125 126\n",
      " 127 128 129 130 131 132 133 134 135 136 137 138 139 140 141 142 143 144\n",
      " 145 146 147 148 149 150 151 152 153 154 155 156 157 158 159 160 161 162\n",
      " 163 164 165 166 167 168 169 170 171 172 173 174 175 176 177 178 179 180\n",
      " 181 182 183 184 185 186 187 188 189 190 191 192 193 194 195 196 197 198\n",
      " 199 200 201 202 203 204 205 206 207 208 209 210 211 212 213 214 215 216\n",
      " 217 218 219 220 221 222 223 224 225 226 227 228 229 230 231 232 233 234\n",
      " 235 236 237 238 239 240 241 242 243 244 245 246 247 248 249 250 251 252\n",
      " 253 254 255 256 257 258 259 260 261 262 263 264 265 266 267 268 269 270\n",
      " 271 272 273 274 275 276 277 278 279 280 281 282 283 284 285 286 287 288\n",
      " 289 290 291 292 293 294 295 296 297 298 299 300 301 302 303 304 305 306\n",
      " 307 308 309 310 311 312 313 314 315 316 317 318 319 320 321 322 323 324\n",
      " 325 326 327 328 329 330 331 332 333 334 335 336 337 338 339 340 341 342\n",
      " 343 344 345 346 347 348 349 350 351 352 353 354 355 356 357 358 359 360\n",
      " 361 362 363 364 365 366 367 368 369 370 371 372 373 374 375 376]\n",
      "--------------------------------------------------\n",
      "Уникальные значения в 'Name':\n",
      "['Olimpieva Tamara' 'Saidova Ashuroy' 'Kurbоnova Khusnoro'\n",
      " 'Rashidbekova Makhtoma' 'Khafizova Muazzama' 'Kazimova Makhbuba'\n",
      " 'Rachabov Sayali' 'Negmatova Tursunoy' 'Mirzoeva Manizha'\n",
      " 'Marabekova Odinamo' 'Radzhabova Amina' 'Nematulloeva Fotima'\n",
      " 'Sanginov Ilkhom' 'Idieva Kimat' 'Rakhmonov Abdugaffor'\n",
      " 'Muskinova Sitora' 'Yunusova Shoista' 'Khafizova Sadbarg'\n",
      " 'Akhmedov Askarali' 'Makhmadaminova Gulkhonim' 'Umarov Mardon'\n",
      " 'Radzhabova Gulkharam' 'Kamarova Mavlyuda' 'Asronov Makhmadrachab'\n",
      " 'Abdulnazarova Adolat' 'Saidakhmadov Iso' 'Loikov Gafor'\n",
      " 'Davlatov Abdusalom' 'Davlatov Idris' 'Mionova Avazbibi'\n",
      " 'Giyasova Makhbuba' 'Dalimova Khamida' 'Pakhlaвонова Anzurat'\n",
      " 'Safarov Makhmadi' 'Rasulov Safarkhucha' 'Tabarova Miskol'\n",
      " 'Rakhimova Sharifa' 'Dzhuraeva Mavlyuda' 'Mirkhaidarova Manzura'\n",
      " 'Rachabov Farkhod' 'Bazarov Rakhmatullo' 'Begmatov Rachab'\n",
      " 'Sadikov Sharofiddin' 'Makhmadov Bobokhudon' 'Nachmiddinova Zulhiya'\n",
      " 'Gadoeva Asalbi' 'Sukhrob Ali' 'Kabirov Yalama' 'Karimova Khanifa'\n",
      " 'Bobodzhonova Kholbi' 'Yuldasheva Dolokhon' 'Yorova Fotima'\n",
      " 'Burova Namoyon' 'Persibeynos Nazokat' 'Sharofova O.' 'Boboeva Oisha'\n",
      " 'Shomurodova F.' 'Kholova Zulaykho' 'Rakhmatulloev Abdukhalil'\n",
      " 'Sadonov Sadriddin' 'Bilolov Nematullo' 'Matlyubova Etibor'\n",
      " 'Ubaydulloev Iso' 'Madadkhonova Kimiё' 'Khodzhaev Nabot' 'Rasulov A.'\n",
      " 'Davlatova B.' 'Saidbekov Abrukhimbek' 'Nuriddinova Ranokhon'\n",
      " 'Ismoilov Isroil' 'Abdulloyeva Nisogul' 'Dzhobirova Oisha'\n",
      " 'Saidakhmadov Saidamir' 'Sobirov Ibodullo' 'Dzhuraeva Dilbar'\n",
      " 'Yusupova Yodgora' 'Khodzhaeva Aziza' 'Rakhmatova Bakhri' 'Khasanova Sh.'\n",
      " 'Barotova Mayram' 'Valiev Akhmadchon' 'Doniyorova Kh.' 'Kholmurodov B.'\n",
      " 'Boboev Aso' 'Davlatova Sabagul' 'Mirzoeva K.' 'Sadiev Shakhob'\n",
      " 'Boymirzoeva Khurinisso' 'Burkhonov Akhmadchon' 'Boboeva Fotima'\n",
      " 'Nuriddinov Saidsho' 'Boboeva Muazzam' 'Berdiev Fayzali' 'Sharipov Kayum'\n",
      " 'Rakhmatulloev Dogi' 'Bekova Mukharram' 'Barotova Kurbogul'\n",
      " 'Nosirov Amriddin' 'Nachmiddinov Mirzo' 'Bobodzhonova Zarifa'\n",
      " 'Alikulov Tiltinboy' 'Ashurova Marziya' 'Bekhronov Rakhmatsho'\n",
      " 'Bakhriddinova Dzhumagul' 'Bobomurodova Bibigul' 'Bachabekov Kishvar'\n",
      " 'Azimova Rashida' 'Burieva Namoyon' 'Gadoev Ilkhom'\n",
      " 'Bakhtibekova Paimora' 'Abrorov Khalim' 'Boboev Safar'\n",
      " 'Abulloyeva Tochiniso' 'Akhmedova Nodira' 'Atoeva Khaticha'\n",
      " 'Akhmedzhanova Binobar' 'Abdulloyeva Muyasara' 'Abdukadirova Rustam'\n",
      " 'Abdurakhimov Zafar' 'Abdumainova Saidamo' 'Achilova Marziya'\n",
      " 'Asrorova Mokhru' 'Aburasulov Sharifchon' 'Asrorov Dilshod'\n",
      " 'Abdusattorov Abdugafor' 'Afzalov Siyovush' 'Akhmedova Munavvara'\n",
      " 'Arbobova Ulmaskhon' 'Aliyev Khochanazar' 'Ashurova Sitora'\n",
      " 'Atohodzhaeva Mukhayo' 'Bozorova Mavluda' 'Asalov Fayzali'\n",
      " 'Abdurakhmonova Khalima' 'Bakhodurova Gulchekhra' 'Bakhromova Adolat'\n",
      " 'Bobokalонова Mukaddas' 'Balaeva Rezamo' 'Boboeva Dilbar'\n",
      " 'Boboev Toshboy' 'Abdulloyeva Ziyodakhon' 'Bakhromova Gulchakhon'\n",
      " 'Barzuev Sayvali' 'Bogadyrov Komil' 'Sharipov Rakhmatullo'\n",
      " 'Saidov Sharif' 'Khasanov Safar' 'Abdullohodzhaeva Salima'\n",
      " 'Bekbudova Mashlomat' 'Begmomov Chaborali' 'Boboraimov Mukhamed'\n",
      " 'Bekova Mashshon' 'Badridinova Khomiya' 'Bebudova Gulbakhor'\n",
      " 'Boboeva Gulsara' 'Gulomova Gadobegim' 'Shamsova Galatmo'\n",
      " 'Gaforova Bibichaman' 'Valieva Muborak' 'Gaironov Khiman' 'Gafurov Iboд'\n",
      " 'Alimardonova Zumrad' 'Gulomov Makhmadsaid' 'Gulomova Idimo'\n",
      " 'Akhanhodzhieva Munavar' 'Ashuraliev Kuvvatalі' 'Ashurov Shakhobiddin'\n",
      " 'Amonov Sironkhon' 'Azimova Norgul' 'Alimova Khalima' 'Achilova Fotima'\n",
      " 'Anvarov Khaydar' 'Asadov Dodobek' 'Akbaraliev Akbarchon'\n",
      " 'Boev Dzhonmakhmad' 'Ayubova Adolat' 'Abdunazarova Fotima'\n",
      " 'Ashurova Bargigul' 'Bozorov Chalol' 'Bozorov Rakhmatullo'\n",
      " 'Boeva Zebokhon' 'Azizov Abdurakhim' 'Boboeva Latifa' 'Boboev Rakhim'\n",
      " 'Bobokhonova Umeda' 'Akhmedova Rokhoбар' 'Abdunazarova Adolat'\n",
      " 'Abdulloyeva N.' 'Azamov Murodchon' 'Abulabos Siddik'\n",
      " 'Abdurakhmonova Bibirachab' 'Abdunazarova Alfinur' 'Aliyeva Mukhabat'\n",
      " 'Abdukarimova Mukhabat' 'Abduvakhobova Makhbuba' 'Astanov Toshtemur'\n",
      " 'Azizova Khimchanda' 'Kodirov Rodshob' 'Akhmedova Khabaroy'\n",
      " 'Asoeva Shakhzoda' 'Akhmetov Amrullo' 'Abdurasulov Sharifchon'\n",
      " 'Karimova Fayzigul' 'Karimova Gulbozor' 'Karimov Khairiddin'\n",
      " 'Avgonova Gulsara' 'Alya Sayrullo' 'Mamадhoitova Kimiё'\n",
      " 'Makhmadiev Saidmurod' 'Karaev Yunus' 'Mashlubova Etibor'\n",
      " 'Mansurova Matlyuba' 'Musoev Kholbobo' 'Kurbоnova Bozorgul'\n",
      " 'Madatova Kanoaт' 'Davlatova Zulfiya' 'Kuziyeva Ziyoratkhon'\n",
      " 'Kuvvatova Mavlyuda' 'Kosimova Khirobon' 'Kosimov Saidkhucha'\n",
      " 'Kosimova Odinabi' 'Davlatova Idigul' 'Kakhkhorov Bakhrullo'\n",
      " 'Kassirova Zarifmo' 'Karimova Chumagul' 'Davlatova Sa’bagul'\n",
      " 'Karimova Safargul' 'Suyunova Tochioy' 'Kodirov Tochiniso'\n",
      " 'Rustamov Chuma' 'Rakhimova Savrimo' 'Karaev Makhmadnazar'\n",
      " 'Rasulova Khavasmo' 'Nurova Sharifa' 'Nurova Begim' 'Nurov Makhkamboй'\n",
      " 'Normatova Munavara' 'Narzиеva Chamila' 'Nazarova Noziya'\n",
      " 'Nazhmutdinova Gulishor' 'Musodikov Shodmon' 'Mirzoeva Makhnоza'\n",
      " 'Mirzoev Khokim' 'Machidova Tagoygul' 'Makhmudova Sharifamo'\n",
      " 'Olimov Sodik' 'Gulyamova Gadobegim' 'Radzhabova Khоsiyat'\n",
      " 'Ismoilova Mukarama' 'Zokhirova Gulchamila' 'Davlatova Momogul'\n",
      " 'Kurbоnov Makhmanabi' 'Davlatova Maysara' 'Sodikov Mukhamadchon'\n",
      " 'Sattorov Iboдullo' 'Rakhmonov Narzullo' 'Dzhobirov Sher'\n",
      " 'Rakhimova Mayram' 'Bidezishvili Ilisha' 'Rasulova Mukarram'\n",
      " 'Zainiddinova Saida' 'Rasulov Salmanmurod' 'Rasulov Davlatmurod'\n",
      " 'Zabirova Nурkhotun' 'Radzhabova Gulхарam' 'Pirova Khangoma'\n",
      " 'Pirmatova Sharofat' 'Kosimova Nurbibi' 'Kaladarova Mayram'\n",
      " 'Kaladarova Zukhro' 'Kabirova Mavchigul' 'Kabirov Yormakhmad'\n",
      " 'Kobilova Khaticha' 'Isakova Makhsuda' 'Rasulova Saodat'\n",
      " 'Ismoilov Rakhim' 'Ismoilova Savlatmo' 'Ibragimov Davlat'\n",
      " 'Zubaidova Gulchakhon' 'Abdulloev Nekruz' 'Azizova Asima'\n",
      " 'Rioeva Mokhiston' 'Boboev Davron' 'Anisai Maksad' 'Bobodzhanova Salomat'\n",
      " 'Vatanova Madina' 'Divlokhov Saidakram' 'Yorzoda Gulnozai Sharif'\n",
      " 'Ibragimov Dzakhongir' 'Ismoilov Dovud' 'Kandilov Bashariddin'\n",
      " 'Kodirov Izzatullo' 'Kodirova Ansu' 'Malokhati Mirzoshаrif'\n",
      " 'Mardonov Abdujalil' 'Mardonov Mekhrubon' 'Madzhidov Azimdzon'\n",
      " 'Makhmudova Azamatkhon' 'Makhmudova Marjona' 'Mekhrobi Bakhodur'\n",
      " 'Mirzoeva Parvona' 'Muminova Arofathon' 'Nazarov Olimdzon'\n",
      " 'Nazriev Bakhodur' 'Narziev Farrukh' 'Sultonov Yokubdzon'\n",
      " 'Saidov Sharifdzon' 'Kholbоboev Parviz' 'Saraev Abduloboy'\n",
      " 'Sattorzoda Mekhriniso' 'Safarova Shirinmokh' 'Dzhabborov Mekhron'\n",
      " 'Temirova Bunafsha' 'Teshaboeva Mekhrona' 'Bobobekov Dzakhonbek'\n",
      " 'Urazmatova Nilufar' 'Usmonalii Abdukha?im' 'Utamurodov Emоmali'\n",
      " 'Nargisi Akram' 'Nurmatova Mavzuna' 'Kholboeva Lola' 'Kholov Daler'\n",
      " 'Khudoyorov Nekruz' 'Khudoйberdieva Umeda' 'Sangova Dilafruz'\n",
      " 'Toshmurodova Dilоrom' 'Khasanova Risolat' 'Kaisova Gulchekhra'\n",
      " 'Kamolova Dilorom' 'Dzhuraeva Gulnoza' 'Karimova Tadjigul'\n",
      " 'Kobilova Matlyuba' 'Kodirov Khairiddin' 'Kodirova Gulsara'\n",
      " 'Shekhova Sabrina' 'Kurbоnbekov Azam' 'Zulaykhoi Khasan'\n",
      " 'Kurbоnov Kholmurod' 'Rabieva Gilon' 'Radzhabova Zulaykho'\n",
      " 'Radzhabova Fayzigul' 'Rasulov Dzhumakhon' 'Khaimova Muborak'\n",
      " 'Rakhimova Mamlakat' 'Bobodzhonov Makhmud' 'Rakhmanov Abdugaфор'\n",
      " 'Gulova Fayzimo' 'Zamonshoev Mastibek' 'Zamonov Khikmatullo'\n",
      " 'Amonov Bobonazar' 'Dadoboev Chumanazar' 'Yorova Niso'\n",
      " 'Dzhurakulova Saidmokh' 'Dustova Markhabo' 'Yorov Emomidдин'\n",
      " 'Nuraliyeva Nikhol' 'Zokhirova Khalima' 'Zioeva Zebo' 'Zaripova Rukiya'\n",
      " 'Zaripova Mokhiston' 'Dolimova Khomida' 'Abdulloyeva Malika'\n",
      " 'Davlatova Khayri' 'Davlatova Shamigul' 'Davlatkhozhaev Saidakhtam'\n",
      " 'Makhmadrasulova Khabiba' 'Dzhuraev Todzhiddin' 'Karimova Mayram']\n",
      "--------------------------------------------------\n",
      "Уникальные значения в 'DM type':\n",
      "['NIDDM' 'IDDM' nan]\n",
      "--------------------------------------------------\n",
      "Уникальные значения в 'Renal function':\n",
      "['impaired' 'saved' 'non-specified' nan]\n",
      "--------------------------------------------------\n",
      "Уникальные значения в 'Duration of DM':\n",
      "[1997 2010 2007 2005 2003 2004 2001 2008 2009 2006 1995 2000 2012 2011\n",
      " 2013 1996 1999 2002 1990 1998 1991 2014 2015 1985 2016 1993]\n",
      "--------------------------------------------------\n",
      "Уникальные значения в 'Diabetic retinopathy':\n",
      "['Severe non-PDR' 'Mild non-PDR' 'Moderate non-PDR' 'no' 'PDR']\n",
      "--------------------------------------------------\n",
      "Уникальные значения в 'Fasting blood glucose':\n",
      "[ 9.3  8.4  7.5 13.4  7.9 10.8  8.5  9.8 10.  12.4  9.4  8.1 12.9  7.4\n",
      " 12.5  7.8 14.1 11.4  4.7  5.  10.2  8.   9.5 10.3 10.4  5.8  6.3  5.7\n",
      "  6.9  8.6  6.7  8.2  9.6 11.2  6.8  9.7  5.9  9.   6.  12.1  8.7 11.5\n",
      "  8.9  4.9 12.  12.6 11.3  8.8 10.5 13.6  9.2  7.6  7.  11.1 14.7  6.1\n",
      " 13.5  9.9 11.7 17.2 17.8 12.7 10.6 11.  10.7 16.2 11.6 12.8  5.6  5.3\n",
      "  5.2 14.2  nan  7.2  6.5 11.8  9.1 13.9  5.4 13.2  4.6 10.9 14.9 11.9\n",
      "  7.3  8.3 13.7  7.7  6.2 14.8 13.   7.1 13.8 17.5  4.  16.1 12.2 15.\n",
      " 15.3 16.  15.5 13.3 14.  19.  13.1 12.3]\n",
      "--------------------------------------------------\n",
      "Уникальные значения в 'Hereditary':\n",
      "['yes' 'no']\n",
      "--------------------------------------------------\n"
     ]
    }
   ],
   "source": [
    "for col in df_sheet3.columns:\n",
    "    unique_values = df_sheet3[col].unique()\n",
    "    print(f\"Уникальные значения в '{col}':\")\n",
    "    print(unique_values)\n",
    "    print(\"-\" * 50)"
   ]
  },
  {
   "cell_type": "code",
   "execution_count": 97,
   "metadata": {},
   "outputs": [
    {
     "name": "stdout",
     "output_type": "stream",
     "text": [
      "(np.float64(4.0), np.float64(19.0))\n"
     ]
    }
   ],
   "source": [
    "fbg_range = (df_sheet3[\"Fasting blood glucose\"].min(), df_sheet3[\"Fasting blood glucose\"].max())\n",
    "print(f\"{fbg_range}\") "
   ]
  },
  {
   "cell_type": "code",
   "execution_count": 98,
   "metadata": {},
   "outputs": [
    {
     "name": "stdout",
     "output_type": "stream",
     "text": [
      "(np.int64(1985), np.int64(2016))\n"
     ]
    }
   ],
   "source": [
    "duration_range = (df_sheet3[\"Duration of DM\"].min(), df_sheet3[\"Duration of DM\"].max())\n",
    "print(f\"{duration_range}\")"
   ]
  },
  {
   "cell_type": "markdown",
   "metadata": {},
   "source": [
    "# Обработка данных\n",
    "**Пропущенные значения:**"
   ]
  },
  {
   "cell_type": "code",
   "execution_count": 99,
   "metadata": {},
   "outputs": [
    {
     "name": "stdout",
     "output_type": "stream",
     "text": [
      "Patient_ID            0.000000\n",
      "Name                  0.000000\n",
      "Sex                   0.000000\n",
      "Address               0.797872\n",
      "Level of Education    3.191489\n",
      "Occupation            0.000000\n",
      "Age in years          0.000000\n",
      "dtype: float64\n"
     ]
    }
   ],
   "source": [
    "missing_percentage1 = df_sheet1.isnull().mean() * 100\n",
    "print(missing_percentage1)"
   ]
  },
  {
   "cell_type": "markdown",
   "metadata": {},
   "source": [
    "У нас есть пропущенные значения в столбцах Address и Level of Education. \n",
    "\n",
    "**Address** (0.8% пропусков): заполним пропуски самым частым значением (модой), т.к.пропусков очень мало. Заполнение пропусков самым частым значением (модой) будет логичным,поскольку, скорее всего, большинство пациентов проживает в одном и том же городе. \n",
    "Это также помогает сохранить структуру данных, не добавляя значительных искажений.\n",
    "**Level of Education** (3.2% пропусков): заполним пропуски значением \"non-specified\",чтобы не искажать структуру данных"
   ]
  },
  {
   "cell_type": "code",
   "execution_count": 100,
   "metadata": {},
   "outputs": [],
   "source": [
    "df_sheet1.fillna({'Address': df_sheet1['Address'].mode()[0]}, inplace=True)\n",
    "df_sheet1.fillna({'Level of Education': 'non-specified'}, inplace=True)\n",
    "\n"
   ]
  },
  {
   "cell_type": "code",
   "execution_count": 101,
   "metadata": {},
   "outputs": [
    {
     "name": "stdout",
     "output_type": "stream",
     "text": [
      "Patient_ID            0\n",
      "Name                  0\n",
      "Sex                   0\n",
      "Address               0\n",
      "Level of Education    0\n",
      "Occupation            0\n",
      "Age in years          0\n",
      "dtype: int64\n"
     ]
    }
   ],
   "source": [
    "print(df_sheet1.isna().sum())"
   ]
  },
  {
   "cell_type": "code",
   "execution_count": 102,
   "metadata": {},
   "outputs": [
    {
     "name": "stdout",
     "output_type": "stream",
     "text": [
      "Patient_ID            0.0\n",
      "Name                  0.0\n",
      "Sex                   0.0\n",
      "Address               0.0\n",
      "Level of Education    0.0\n",
      "Occupation            0.0\n",
      "Age in years          0.0\n",
      "dtype: float64\n"
     ]
    }
   ],
   "source": [
    "missing_percentage1 = df_sheet1.isnull().mean() * 100\n",
    "print(missing_percentage1)"
   ]
  },
  {
   "cell_type": "code",
   "execution_count": 103,
   "metadata": {},
   "outputs": [
    {
     "name": "stdout",
     "output_type": "stream",
     "text": [
      "Patient_ID      0.000000\n",
      "Nephropathy     0.000000\n",
      "Neuropathy      0.000000\n",
      "Smoking         0.000000\n",
      "BMI            30.319149\n",
      "dtype: float64\n"
     ]
    }
   ],
   "source": [
    "missing_percentage2 = df_sheet2.isnull().mean() * 100\n",
    "print(missing_percentage2)"
   ]
  },
  {
   "cell_type": "markdown",
   "metadata": {},
   "source": [
    "У нас есть пропущенные значения в столбце **BMI**, которые составляют 30% от общего значения. Заменим их медианой, так как BMI часто имеет асимметричное распределение и медиана может быть более подходящей для предотвращения искажения данных, чем среднее значение."
   ]
  },
  {
   "cell_type": "code",
   "execution_count": 104,
   "metadata": {},
   "outputs": [],
   "source": [
    "df_sheet2.fillna({'BMI':df_sheet2[\"BMI\"].median()}, inplace=True)"
   ]
  },
  {
   "cell_type": "code",
   "execution_count": 105,
   "metadata": {},
   "outputs": [
    {
     "name": "stdout",
     "output_type": "stream",
     "text": [
      "Patient_ID     0.0\n",
      "Nephropathy    0.0\n",
      "Neuropathy     0.0\n",
      "Smoking        0.0\n",
      "BMI            0.0\n",
      "dtype: float64\n"
     ]
    }
   ],
   "source": [
    "missing_percentage2 = df_sheet2.isnull().mean() * 100\n",
    "print(missing_percentage2)"
   ]
  },
  {
   "cell_type": "code",
   "execution_count": 106,
   "metadata": {},
   "outputs": [
    {
     "name": "stdout",
     "output_type": "stream",
     "text": [
      "Patient_ID     0\n",
      "Nephropathy    0\n",
      "Neuropathy     0\n",
      "Smoking        0\n",
      "BMI            0\n",
      "dtype: int64\n"
     ]
    }
   ],
   "source": [
    "print(df_sheet2.isna().sum())"
   ]
  },
  {
   "cell_type": "code",
   "execution_count": 107,
   "metadata": {},
   "outputs": [
    {
     "name": "stdout",
     "output_type": "stream",
     "text": [
      "Patient_ID               0.000000\n",
      "Name                     0.000000\n",
      "DM type                  0.265957\n",
      "Renal function           0.265957\n",
      "Duration of DM           0.000000\n",
      "Diabetic retinopathy     0.000000\n",
      "Fasting blood glucose    0.531915\n",
      "Hereditary               0.000000\n",
      "dtype: float64\n"
     ]
    }
   ],
   "source": [
    "missing_percentage3 = df_sheet3.isnull().mean() * 100\n",
    "print(missing_percentage3)"
   ]
  },
  {
   "cell_type": "markdown",
   "metadata": {},
   "source": [
    "У нас пропущены значения в столбцах **DM type**, **Renal function**, **Fasting blood glucose**.\n",
    "Заполняем пропуски в **DM type**, **Renal function** модой, так как доля пропусков минимальна.\n",
    "Заполняем пропуски в **Fasting blood glucose** медианой, так как могут быть разбросы или может быть асимметричное распределение данных и мы можем исказить структуру данных."
   ]
  },
  {
   "cell_type": "code",
   "execution_count": 108,
   "metadata": {},
   "outputs": [],
   "source": [
    "df_sheet3.fillna({'DM type':df_sheet3['DM type'].mode()[0]}, inplace=True)\n"
   ]
  },
  {
   "cell_type": "code",
   "execution_count": 109,
   "metadata": {},
   "outputs": [],
   "source": [
    "df_sheet3.fillna({'Renal function':df_sheet3['Renal function'].mode()[0]}, inplace=True)"
   ]
  },
  {
   "cell_type": "code",
   "execution_count": 110,
   "metadata": {},
   "outputs": [
    {
     "name": "stdout",
     "output_type": "stream",
     "text": [
      "Patient_ID               0\n",
      "Name                     0\n",
      "DM type                  0\n",
      "Renal function           0\n",
      "Duration of DM           0\n",
      "Diabetic retinopathy     0\n",
      "Fasting blood glucose    2\n",
      "Hereditary               0\n",
      "dtype: int64\n"
     ]
    }
   ],
   "source": [
    "print(df_sheet3.isna().sum())"
   ]
  },
  {
   "cell_type": "code",
   "execution_count": 111,
   "metadata": {},
   "outputs": [],
   "source": [
    "\n",
    "df_sheet3.fillna({'Fasting blood glucose':df_sheet3['Fasting blood glucose'].median()}, inplace=True)"
   ]
  },
  {
   "cell_type": "code",
   "execution_count": 112,
   "metadata": {},
   "outputs": [
    {
     "name": "stdout",
     "output_type": "stream",
     "text": [
      "Patient_ID               0.0\n",
      "Name                     0.0\n",
      "DM type                  0.0\n",
      "Renal function           0.0\n",
      "Duration of DM           0.0\n",
      "Diabetic retinopathy     0.0\n",
      "Fasting blood glucose    0.0\n",
      "Hereditary               0.0\n",
      "dtype: float64\n"
     ]
    }
   ],
   "source": [
    "missing_percentage3 = df_sheet3.isnull().mean() * 100\n",
    "print(missing_percentage3)"
   ]
  },
  {
   "cell_type": "markdown",
   "metadata": {},
   "source": [
    "Обнаружение дубликатов"
   ]
  },
  {
   "cell_type": "code",
   "execution_count": 113,
   "metadata": {},
   "outputs": [
    {
     "name": "stdout",
     "output_type": "stream",
     "text": [
      "Empty DataFrame\n",
      "Columns: [Patient_ID, Name, DM type, Renal function, Duration of DM, Diabetic retinopathy, Fasting blood glucose, Hereditary]\n",
      "Index: []\n",
      "Empty DataFrame\n",
      "Columns: [Patient_ID, Nephropathy, Neuropathy, Smoking, BMI]\n",
      "Index: []\n",
      "Empty DataFrame\n",
      "Columns: [Patient_ID, Name, Sex, Address, Level of Education, Occupation, Age in years]\n",
      "Index: []\n"
     ]
    }
   ],
   "source": [
    "duplicates = df_sheet3.duplicated()\n",
    "duplicates = df_sheet2.duplicated()\n",
    "duplicates = df_sheet1.duplicated()\n",
    "print(df_sheet3[duplicates])\n",
    "print(df_sheet2[duplicates])\n",
    "print(df_sheet1[duplicates])"
   ]
  },
  {
   "cell_type": "markdown",
   "metadata": {},
   "source": [
    "Дубликаты не обнаружены."
   ]
  },
  {
   "cell_type": "markdown",
   "metadata": {},
   "source": [
    "## Наличие выбросов (насколько значение отклоняется от среднего или медианы). Проверяем только числовые переменные: age, bmi,fbg"
   ]
  },
  {
   "cell_type": "markdown",
   "metadata": {},
   "source": [
    "Проверяем нормальность распределения по методу Шапиро-Уилка и в случае ненормальности распределения считаем vежквартильный размах,а не z-score"
   ]
  },
  {
   "cell_type": "code",
   "execution_count": 130,
   "metadata": {},
   "outputs": [
    {
     "name": "stdout",
     "output_type": "stream",
     "text": [
      "Статистика Шапиро-Уилка: 0.9873\n",
      "p-value: 0.00220\n",
      "Распределение статистически отличается от нормального.\n",
      "📌 Выбросы по методу IQR:\n",
      "Q1 = 7.90\n",
      "Q3 = 11.50\n",
      "IQR = 3.60\n",
      "Границы: [2.50, 16.90]\n",
      "Количество выбросов: 4\n",
      "115    17.2\n",
      "119    17.8\n",
      "244    17.5\n",
      "353    19.0\n",
      "Name: fasting_blood_glucose, dtype: float64\n"
     ]
    }
   ],
   "source": [
    "\n",
    "from scipy.stats import shapiro\n",
    "\n",
    "# Приведение имён колонок к нижнему регистру\n",
    "df_sheet3.columns = [col.strip().lower().replace(\" \", \"_\") for col in df_sheet3.columns]\n",
    "\n",
    "# Извлечение значений FBG, удаление пропущенных\n",
    "fbg_values = df_sheet3['fasting_blood_glucose'].dropna()\n",
    "\n",
    "# Тест Шапиро-Уилка\n",
    "stat, p = shapiro(fbg_values)\n",
    "\n",
    "# Вывод результата\n",
    "print(f\"Статистика Шапиро-Уилка: {stat:.4f}\")\n",
    "print(f\"p-value: {p:.5f}\")\n",
    "\n",
    "# Интерпретация\n",
    "if p > 0.05:\n",
    "    print(\"Распределение похоже на нормальное.\")\n",
    "else:\n",
    "    print(\"Распределение статистически отличается от нормального.\")\n",
    "\n",
    "#  Межквартильный размах (IQR) \n",
    "Q1 = fbg_values.quantile(0.25)\n",
    "Q3 = fbg_values.quantile(0.75)\n",
    "IQR = Q3 - Q1\n",
    "\n",
    "lower_bound = Q1 - 1.5 * IQR\n",
    "upper_bound = Q3 + 1.5 * IQR\n",
    "\n",
    "iqr_outliers = fbg_values[(fbg_values < lower_bound) | (fbg_values > upper_bound)]\n",
    "\n",
    "print(\"📌 Выбросы по методу IQR:\")\n",
    "print(f\"Q1 = {Q1:.2f}\")\n",
    "print(f\"Q3 = {Q3:.2f}\")\n",
    "print(f\"IQR = {IQR:.2f}\")\n",
    "print(f\"Границы: [{lower_bound:.2f}, {upper_bound:.2f}]\")\n",
    "print(f\"Количество выбросов: {len(iqr_outliers)}\")\n",
    "print(iqr_outliers)\n"
   ]
  },
  {
   "cell_type": "markdown",
   "metadata": {},
   "source": [
    "Выбросы не удаляем, так как это медицинские данные. Оставляем все как есть, но используем нечувствительные к выбросам статистические методы."
   ]
  },
  {
   "cell_type": "code",
   "execution_count": 134,
   "metadata": {},
   "outputs": [
    {
     "name": "stdout",
     "output_type": "stream",
     "text": [
      "Статистика Шапиро-Уилка: 0.9446\n",
      "p-value: 0.00000\n",
      "Распределение статистически отличается от нормального.\n",
      "📌 Выбросы по методу IQR:\n",
      "Q1 = 26.40\n",
      "Q3 = 30.20\n",
      "IQR = 3.80\n",
      "Границы: [20.70, 35.90]\n",
      "Количество выбросов: 46\n",
      "3      18.30\n",
      "8      16.10\n",
      "9      20.50\n",
      "16     37.60\n",
      "17     38.30\n",
      "18     19.10\n",
      "21     41.50\n",
      "25     38.20\n",
      "29     37.90\n",
      "32     18.00\n",
      "39     18.20\n",
      "44     39.30\n",
      "50     39.50\n",
      "66     15.60\n",
      "76     39.00\n",
      "77     36.00\n",
      "81     42.40\n",
      "83     16.20\n",
      "85     17.60\n",
      "86     19.80\n",
      "99     18.20\n",
      "101    39.00\n",
      "112    43.60\n",
      "113    37.20\n",
      "122    16.70\n",
      "124    38.90\n",
      "125    15.40\n",
      "126    19.10\n",
      "130    39.40\n",
      "132    16.50\n",
      "136    20.50\n",
      "140    16.20\n",
      "147    36.60\n",
      "152    46.40\n",
      "159    37.30\n",
      "185    36.20\n",
      "196    37.80\n",
      "221    13.60\n",
      "230    39.60\n",
      "241    37.40\n",
      "244    19.50\n",
      "259    19.26\n",
      "262    20.24\n",
      "275    20.10\n",
      "281    40.70\n",
      "362    15.90\n",
      "Name: bmi, dtype: float64\n"
     ]
    }
   ],
   "source": [
    "\n",
    "from scipy.stats import shapiro\n",
    "# Приводим имена колонок к стандартному виду\n",
    "df_sheet2.columns = [col.strip().lower().replace(\" \", \"_\") for col in df_sheet2.columns]\n",
    "\n",
    "# Теперь работаем с 'bmi'\n",
    "bmi_values = df_sheet2['bmi'].dropna()\n",
    "\n",
    "# Тест Шапиро-Уилка\n",
    "stat, p = shapiro(bmi_values)\n",
    "\n",
    "# Вывод результата\n",
    "print(f\"Статистика Шапиро-Уилка: {stat:.4f}\")\n",
    "print(f\"p-value: {p:.5f}\")\n",
    "\n",
    "# Интерпретация\n",
    "if p > 0.05:\n",
    "    print(\"Распределение похоже на нормальное.\")\n",
    "else:\n",
    "    print(\"Распределение статистически отличается от нормального.\")\n",
    "\n",
    "#  Межквартильный размах (IQR) \n",
    "Q1 = bmi_values.quantile(0.25)\n",
    "Q3 = bmi_values.quantile(0.75)\n",
    "IQR = Q3 - Q1\n",
    "\n",
    "lower_bound = Q1 - 1.5 * IQR\n",
    "upper_bound = Q3 + 1.5 * IQR\n",
    "\n",
    "iqr_outliers = bmi_values[(bmi_values < lower_bound) | (bmi_values > upper_bound)]\n",
    "\n",
    "print(\"📌 Выбросы по методу IQR:\")\n",
    "print(f\"Q1 = {Q1:.2f}\")\n",
    "print(f\"Q3 = {Q3:.2f}\")\n",
    "print(f\"IQR = {IQR:.2f}\")\n",
    "print(f\"Границы: [{lower_bound:.2f}, {upper_bound:.2f}]\")\n",
    "print(f\"Количество выбросов: {len(iqr_outliers)}\")\n",
    "print(iqr_outliers)\n"
   ]
  },
  {
   "cell_type": "markdown",
   "metadata": {},
   "source": [
    "Так как это медицинские данные, то эти выбросы мы оставляем как есть, но используем нечувствительные к выбросам статистические методы"
   ]
  },
  {
   "cell_type": "code",
   "execution_count": 136,
   "metadata": {},
   "outputs": [
    {
     "name": "stdout",
     "output_type": "stream",
     "text": [
      "Статистика Шапиро-Уилка: 0.8692\n",
      "p-value: 0.00000\n",
      "Распределение статистически отличается от нормального.\n",
      "📌 Выбросы по методу IQR:\n",
      "Q1 = 47.00\n",
      "Q3 = 64.00\n",
      "IQR = 17.00\n",
      "Границы: [21.50, 89.50]\n",
      "Количество выбросов: 53\n",
      "8      19\n",
      "15     19\n",
      "142    16\n",
      "221    20\n",
      "287    12\n",
      "288    15\n",
      "290     2\n",
      "291    18\n",
      "292    20\n",
      "293     5\n",
      "294     5\n",
      "295    14\n",
      "296     6\n",
      "297    17\n",
      "298    15\n",
      "299    17\n",
      "300    14\n",
      "301    16\n",
      "303    12\n",
      "304    12\n",
      "305    14\n",
      "306    20\n",
      "307    11\n",
      "308    12\n",
      "309    16\n",
      "310    16\n",
      "311    20\n",
      "312    12\n",
      "313    21\n",
      "314    19\n",
      "315    18\n",
      "316    18\n",
      "317    15\n",
      "318    16\n",
      "319    18\n",
      "320    12\n",
      "321    14\n",
      "322    21\n",
      "323    16\n",
      "324    16\n",
      "325    12\n",
      "326    21\n",
      "327    20\n",
      "328    14\n",
      "329     2\n",
      "330    17\n",
      "331    12\n",
      "332    19\n",
      "333    20\n",
      "334    19\n",
      "337    21\n",
      "342    19\n",
      "344    20\n",
      "Name: age_in_years, dtype: int64\n"
     ]
    }
   ],
   "source": [
    "\n",
    "from scipy.stats import shapiro\n",
    "# Приводим имена колонок к стандартному виду\n",
    "df_sheet1.columns = [col.strip().lower().replace(\" \", \"_\") for col in df_sheet1.columns]\n",
    "\n",
    "# Теперь работаем с 'age in years'\n",
    "age_values = df_sheet1['age_in_years'].dropna()\n",
    "\n",
    "# Тест Шапиро-Уилка\n",
    "stat, p = shapiro(age_values)\n",
    "\n",
    "# Вывод результата\n",
    "print(f\"Статистика Шапиро-Уилка: {stat:.4f}\")\n",
    "print(f\"p-value: {p:.5f}\")\n",
    "\n",
    "# Интерпретация\n",
    "if p > 0.05:\n",
    "    print(\"Распределение похоже на нормальное.\")\n",
    "else:\n",
    "    print(\"Распределение статистически отличается от нормального.\")\n",
    "\n",
    "#  Межквартильный размах (IQR) \n",
    "Q1 = age_values.quantile(0.25)\n",
    "Q3 = age_values.quantile(0.75)\n",
    "IQR = Q3 - Q1\n",
    "\n",
    "lower_bound = Q1 - 1.5 * IQR\n",
    "upper_bound = Q3 + 1.5 * IQR\n",
    "\n",
    "iqr_outliers = age_values[(age_values < lower_bound) | (age_values > upper_bound)]\n",
    "\n",
    "print(\"📌 Выбросы по методу IQR:\")\n",
    "print(f\"Q1 = {Q1:.2f}\")\n",
    "print(f\"Q3 = {Q3:.2f}\")\n",
    "print(f\"IQR = {IQR:.2f}\")\n",
    "print(f\"Границы: [{lower_bound:.2f}, {upper_bound:.2f}]\")\n",
    "print(f\"Количество выбросов: {len(iqr_outliers)}\")\n",
    "print(iqr_outliers)\n"
   ]
  },
  {
   "cell_type": "markdown",
   "metadata": {},
   "source": [
    "Так как это медицинские данные, то эти выбросы мы оставляем как есть, но используем нечувствительные к выбросам статистические методы."
   ]
  },
  {
   "cell_type": "markdown",
   "metadata": {},
   "source": [
    "# Статистика, гипотезы\n"
   ]
  },
  {
   "cell_type": "markdown",
   "metadata": {},
   "source": [
    "## Цель: проверить, зависят ли категории dm_type и hereditary друг от друга.\n",
    "\n",
    "Метод: χ²-тест на независимость.\n",
    "\n",
    "Нулевая гипотеза (H₀): тип диабета и наличие наследственности независимы.\n",
    "\n",
    "Альтернативная гипотеза (H₁): между ними есть статистическая связь\n",
    "\n"
   ]
  },
  {
   "cell_type": "code",
   "execution_count": 115,
   "metadata": {},
   "outputs": [
    {
     "name": "stdout",
     "output_type": "stream",
     "text": [
      "Таблица сопряжённости:\n",
      "hereditary   no  yes\n",
      "dm_type             \n",
      "IDDM         67   11\n",
      "NIDDM       195  103\n",
      "\n",
      "Результаты χ²-теста:\n",
      "Хи-квадрат: 11.301\n",
      "Степени свободы: 1\n",
      "Ожидаемые значения (при H₀):\n",
      "[[ 54.35106383  23.64893617]\n",
      " [207.64893617  90.35106383]]\n",
      "p-value: 0.00077\n",
      "\n",
      "Вывод: Есть статистически значимая связь между типом диабета и наследственностью.\n"
     ]
    }
   ],
   "source": [
    "from scipy.stats import chi2_contingency\n",
    "\n",
    "\n",
    "# Приведение названий колонок к удобному виду (нижний регистр, без пробелов)\n",
    "df_sheet3.columns = [col.strip().lower().replace(\" \", \"_\") for col in df_sheet3.columns]\n",
    "\n",
    "\n",
    "# 4. Строим таблицу сопряжённости (кросс-таблицу)\n",
    "# Строки — тип диабета, колонки — наследственность (да/нет)\n",
    "contingency_table = pd.crosstab(df_sheet3['dm_type'], df_sheet3['hereditary'])\n",
    "\n",
    "# 5. Выполняем χ²-тест\n",
    "chi2, p, dof, expected = chi2_contingency(contingency_table)\n",
    "\n",
    "# 6. Выводим результаты\n",
    "print(\"Таблица сопряжённости:\")\n",
    "print(contingency_table)\n",
    "\n",
    "print(\"\\nРезультаты χ²-теста:\")\n",
    "print(f\"Хи-квадрат: {chi2:.3f}\")\n",
    "print(f\"Степени свободы: {dof}\")\n",
    "print(f\"Ожидаемые значения (при H₀):\\n{expected}\")\n",
    "print(f\"p-value: {p:.5f}\")\n",
    "\n",
    "# 7. Интерпретация\n",
    "if p < 0.05:\n",
    "    print(\"\\nВывод: Есть статистически значимая связь между типом диабета и наследственностью.\")\n",
    "else:\n",
    "    print(\"\\nВывод: Нет статистически значимой связи между типом диабета и наследственностью.\")\n"
   ]
  },
  {
   "cell_type": "markdown",
   "metadata": {},
   "source": [
    "\n",
    "**Вывод: Есть статистически значимая связь между типом диабета и наследственностью.**\n",
    "\n"
   ]
  },
  {
   "cell_type": "markdown",
   "metadata": {},
   "source": [
    "## Гипотеза №2 \n",
    "Цель: узнать отличается ли уровень глюкозы натощак у пациентов с сохраненной и нарушенной функцией почек.\n",
    "Метод: Однофакторный дисперсионный анализ (ANOVA).\n",
    "\n",
    "H₀ (нулевая гипотеза): средний уровень FBG одинаков у пациентов с сохранённой и нарушенной функцией почек.\n",
    "\n",
    "H₁ (альтернатива): средний уровень FBG различается между группами.\n"
   ]
  },
  {
   "cell_type": "code",
   "execution_count": 117,
   "metadata": {},
   "outputs": [
    {
     "name": "stdout",
     "output_type": "stream",
     "text": [
      " Средние значения FBG по группам почечной функции:\n",
      "renal_function\n",
      "impaired    10.130769\n",
      "saved        8.302667\n",
      "Name: fasting_blood_glucose, dtype: float64\n",
      "\n",
      " Результаты ANOVA:\n",
      "F-статистика: 31.310\n",
      "p-value: 0.00000004\n",
      "\n",
      " Вывод: Уровень FBG статистически значимо различается между группами.\n"
     ]
    }
   ],
   "source": [
    "\n",
    "from scipy.stats import f_oneway\n",
    "\n",
    "#  Приведение названий колонок к нижнему регистру с подчёркиванием\n",
    "df_sheet3.columns = [col.strip().lower().replace(\" \", \"_\") for col in df_sheet3.columns]\n",
    "\n",
    "#  Приведение значений функции почек к нижнему регистру\n",
    "df_sheet3['renal_function'] = df_sheet3['renal_function'].str.lower().str.strip()\n",
    "\n",
    "#  Фильтрация только нужных категорий: \"saved\" и \"impaired\"\n",
    "df_filtered = df_sheet3[df_sheet3['renal_function'].isin(['saved', 'impaired'])]\n",
    "\n",
    "#  Группировка FBG по функциям почек\n",
    "groups = df_filtered.groupby('renal_function')['fasting_blood_glucose'].apply(list)\n",
    "\n",
    "#  Выполнение однофакторного дисперсионного анализа (ANOVA)\n",
    "f_stat, p_value = f_oneway(*groups)\n",
    "\n",
    "#  Вывод результатов\n",
    "print(\" Средние значения FBG по группам почечной функции:\")\n",
    "print(groups.apply(lambda x: sum(x)/len(x)))\n",
    "\n",
    "print(\"\\n Результаты ANOVA:\")\n",
    "print(f\"F-статистика: {f_stat:.3f}\")\n",
    "print(f\"p-value: {p_value:.8f}\")\n",
    "\n",
    "# Интерпретация\n",
    "if p_value < 0.05:\n",
    "    print(\"\\n Вывод: Уровень FBG статистически значимо различается между группами.\")\n",
    "else:\n",
    "    print(\"\\n Вывод: Статистически значимых различий не обнаружено.\")\n"
   ]
  },
  {
   "cell_type": "markdown",
   "metadata": {},
   "source": [
    "\n",
    " **Вывод: Уровень FBG статистически значимо различается между группами.**"
   ]
  }
 ],
 "metadata": {
  "kernelspec": {
   "display_name": "venv",
   "language": "python",
   "name": "python3"
  },
  "language_info": {
   "codemirror_mode": {
    "name": "ipython",
    "version": 3
   },
   "file_extension": ".py",
   "mimetype": "text/x-python",
   "name": "python",
   "nbconvert_exporter": "python",
   "pygments_lexer": "ipython3",
   "version": "3.13.2"
  }
 },
 "nbformat": 4,
 "nbformat_minor": 2
}
